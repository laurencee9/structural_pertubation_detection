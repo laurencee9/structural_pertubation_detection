{
 "cells": [
  {
   "cell_type": "code",
   "execution_count": 1,
   "metadata": {},
   "outputs": [],
   "source": [
    "import torch\n",
    "import numpy as np\n",
    "import networkx as nx\n",
    "import matplotlib.pyplot as plt"
   ]
  },
  {
   "cell_type": "code",
   "execution_count": 2,
   "metadata": {},
   "outputs": [],
   "source": [
    "# Datasets\n",
    "from pyspdetection.networks.generators import BarabasiAlbertNetworks, RealNetwork, ErdosReyniNetworks\n",
    "from pyspdetection.networks.modifiers import RemoveRandomEdges\n",
    "from pyspdetection.networks.base import TemporalNetworks\n",
    "from pyspdetection.dynamics import LotkaVolterraDynamics, SISDynamics, ThetaDynamics\n",
    "from pyspdetection.dataset import Dataset\n",
    "\n",
    "# Models\n",
    "from pyspdetection.gnn import SISPredictor, GNNConfig\n",
    "from pyspdetection.bayesian import BayesianSamplingModel, BayesConfig\n",
    "from pyspdetection.reconstruction import ReconstructionConfig, CorrelationModel, GrangerCausality"
   ]
  },
  {
   "cell_type": "markdown",
   "metadata": {},
   "source": [
    "# Dataset"
   ]
  },
  {
   "cell_type": "markdown",
   "metadata": {},
   "source": [
    "### Network"
   ]
  },
  {
   "cell_type": "code",
   "execution_count": 34,
   "metadata": {},
   "outputs": [],
   "source": [
    "# Barabasi Albert\n",
    "graph_generator = BarabasiAlbertNetworks(N=30, m=1)\n",
    "\n",
    "# Erdos\n",
    "# graph_generator = ErdosReyniNetworks(N=100, density=0.1)"
   ]
  },
  {
   "cell_type": "code",
   "execution_count": 35,
   "metadata": {},
   "outputs": [],
   "source": [
    "G = graph_generator()"
   ]
  },
  {
   "cell_type": "markdown",
   "metadata": {},
   "source": [
    "### Perturbation: Remove random edges"
   ]
  },
  {
   "cell_type": "code",
   "execution_count": 36,
   "metadata": {},
   "outputs": [],
   "source": [
    "modifier = RemoveRandomEdges(n_edges=5)"
   ]
  },
  {
   "cell_type": "markdown",
   "metadata": {},
   "source": [
    "### Dynamics: SIS"
   ]
  },
  {
   "cell_type": "code",
   "execution_count": 51,
   "metadata": {},
   "outputs": [],
   "source": [
    "sis_p, sis_q = 0.1, 0.1\n",
    "dynamics = SISDynamics(p=sis_p, q=sis_q)"
   ]
  },
  {
   "cell_type": "markdown",
   "metadata": {},
   "source": [
    "### Generate a timeseries of length 100 steps"
   ]
  },
  {
   "cell_type": "code",
   "execution_count": 52,
   "metadata": {},
   "outputs": [],
   "source": [
    "t_perturb = 100\n",
    "temporal_network = TemporalNetworks.from_modifiers(modifiers=[(t_perturb, modifier)], \n",
    "                                                   graph_generator=graph_generator)\n",
    "dataset = Dataset(temporal_network, dynamics)\n",
    "\n",
    "T = np.arange(200)\n",
    "Xtrain = dataset.time_series(T, burn=100)\n",
    "G0 = temporal_network(0)\n",
    "G1 = temporal_network(T[-1])\n",
    "W0 = nx.to_numpy_array(G0)\n",
    "W1 = nx.to_numpy_array(G1)\n",
    "dW = W0-W1"
   ]
  },
  {
   "cell_type": "code",
   "execution_count": 53,
   "metadata": {},
   "outputs": [
    {
     "data": {
      "text/plain": [
       "<matplotlib.image.AxesImage at 0x7feac3172b20>"
      ]
     },
     "execution_count": 53,
     "metadata": {},
     "output_type": "execute_result"
    },
    {
     "data": {
      "image/png": "[encoded data removed]",
      "text/plain": [
       "<Figure size 1152x172.8 with 1 Axes>"
      ]
     },
     "metadata": {
      "needs_background": "light"
     },
     "output_type": "display_data"
    }
   ],
   "source": [
    "plt.matshow(Xtrain.T, cmap=\"Reds\")"
   ]
  },
  {
   "cell_type": "code",
   "execution_count": 54,
   "metadata": {},
   "outputs": [
    {
     "data": {
      "text/plain": [
       "Text(0.5, 1.0, 'Target perturbation')"
      ]
     },
     "execution_count": 54,
     "metadata": {},
     "output_type": "execute_result"
    },
    {
     "data": {
      "image/png": "[encoded data removed]",
      "text/plain": [
       "<Figure size 288x288 with 1 Axes>"
      ]
     },
     "metadata": {
      "needs_background": "light"
     },
     "output_type": "display_data"
    }
   ],
   "source": [
    "plt.matshow(W0-W1, cmap=\"Reds\")\n",
    "plt.xlabel(\"Node\")\n",
    "plt.ylabel(\"Node\")\n",
    "plt.title('Target perturbation')"
   ]
  },
  {
   "cell_type": "markdown",
   "metadata": {},
   "source": [
    "# GNN"
   ]
  },
  {
   "cell_type": "code",
   "execution_count": 55,
   "metadata": {},
   "outputs": [],
   "source": [
    "predictor = SISPredictor(config=GNNConfig.SISNet())"
   ]
  },
  {
   "cell_type": "code",
   "execution_count": 56,
   "metadata": {},
   "outputs": [
    {
     "name": "stderr",
     "output_type": "stream",
     "text": [
      "100%|██████████| 10000/10000 [00:13<00:00, 736.77it/s]\n"
     ]
    }
   ],
   "source": [
    "dW_GNN = predictor.predict(Xtrain.T, W0, t_perturb)"
   ]
  },
  {
   "cell_type": "code",
   "execution_count": 57,
   "metadata": {},
   "outputs": [
    {
     "data": {
      "text/plain": [
       "<matplotlib.image.AxesImage at 0x7feadf5251f0>"
      ]
     },
     "execution_count": 57,
     "metadata": {},
     "output_type": "execute_result"
    },
    {
     "data": {
      "image/png": "[encoded data removed]",
      "text/plain": [
       "<Figure size 288x288 with 1 Axes>"
      ]
     },
     "metadata": {
      "needs_background": "light"
     },
     "output_type": "display_data"
    }
   ],
   "source": [
    "plt.matshow(dW_GNN, cmap=\"Reds\")"
   ]
  },
  {
   "cell_type": "markdown",
   "metadata": {},
   "source": [
    "# Bayesian approach"
   ]
  },
  {
   "cell_type": "code",
   "execution_count": 58,
   "metadata": {},
   "outputs": [],
   "source": [
    "config = BayesConfig.paper()\n",
    "config.set_sis(p=sis_p, q=sis_q)\n",
    "bayesian_model = BayesianSamplingModel(config)"
   ]
  },
  {
   "cell_type": "code",
   "execution_count": 59,
   "metadata": {},
   "outputs": [
    {
     "name": "stderr",
     "output_type": "stream",
     "text": [
      "  0%|          | 0/2000 [00:00<?, ?it/s]/Users/edwardl/Documents/Personnel/structural-perturbation/pyspdetection/bayesian/likelihood.py:74: UserWarning: indexing with dtype torch.uint8 is now deprecated, please use a dtype torch.bool instead. (Triggered internally at  /Users/distiller/project/conda/conda-bld/pytorch_1607370249289/work/aten/src/ATen/native/IndexingUtils.h:25.)\n",
      "  p[inactive_index] = 1-p[inactive_index]\n",
      "100%|██████████| 2000/2000 [00:01<00:00, 1108.44it/s]\n"
     ]
    }
   ],
   "source": [
    "dW_bayesian = bayesian_model.predict(Xtrain.T, W0, t_perturb)"
   ]
  },
  {
   "cell_type": "code",
   "execution_count": 60,
   "metadata": {},
   "outputs": [
    {
     "data": {
      "text/plain": [
       "<matplotlib.image.AxesImage at 0x7feac28b6ac0>"
      ]
     },
     "execution_count": 60,
     "metadata": {},
     "output_type": "execute_result"
    },
    {
     "data": {
      "image/png": "[encoded data removed]",
      "text/plain": [
       "<Figure size 288x288 with 1 Axes>"
      ]
     },
     "metadata": {
      "needs_background": "light"
     },
     "output_type": "display_data"
    }
   ],
   "source": [
    "plt.matshow(dW_bayesian, cmap=\"Reds\")"
   ]
  },
  {
   "cell_type": "markdown",
   "metadata": {},
   "source": [
    "# Functional reconstruction methods"
   ]
  },
  {
   "cell_type": "markdown",
   "metadata": {},
   "source": [
    "### Correlation"
   ]
  },
  {
   "cell_type": "code",
   "execution_count": 61,
   "metadata": {},
   "outputs": [],
   "source": [
    "config = ReconstructionConfig.correlation()\n",
    "corr_model = CorrelationModel(config)"
   ]
  },
  {
   "cell_type": "code",
   "execution_count": 62,
   "metadata": {},
   "outputs": [
    {
     "name": "stderr",
     "output_type": "stream",
     "text": [
      "/Users/edwardl/opt/miniconda3/envs/py_spdetection/lib/python3.8/site-packages/numpy/lib/function_base.py:2559: RuntimeWarning: invalid value encountered in true_divide\n",
      "  c /= stddev[:, None]\n",
      "/Users/edwardl/opt/miniconda3/envs/py_spdetection/lib/python3.8/site-packages/numpy/lib/function_base.py:2560: RuntimeWarning: invalid value encountered in true_divide\n",
      "  c /= stddev[None, :]\n",
      "/Users/edwardl/opt/miniconda3/envs/py_spdetection/lib/python3.8/site-packages/netrd/utilities/threshold.py:40: RuntimeWarning: Setting 'cutoffs' argument is strongly encouraged. Using cutoff range of (-1, 1).\n",
      "  warnings.warn(\n"
     ]
    }
   ],
   "source": [
    "dW_corr = corr_model.predict(Xtrain.T, W0, t_perturb)"
   ]
  },
  {
   "cell_type": "code",
   "execution_count": 63,
   "metadata": {},
   "outputs": [
    {
     "data": {
      "text/plain": [
       "<matplotlib.image.AxesImage at 0x7feada417790>"
      ]
     },
     "execution_count": 63,
     "metadata": {},
     "output_type": "execute_result"
    },
    {
     "data": {
      "image/png": "[encoded data removed]",
      "text/plain": [
       "<Figure size 288x288 with 1 Axes>"
      ]
     },
     "metadata": {
      "needs_background": "light"
     },
     "output_type": "display_data"
    }
   ],
   "source": [
    "plt.matshow(dW_corr, cmap=\"Reds\")"
   ]
  },
  {
   "cell_type": "markdown",
   "metadata": {},
   "source": [
    "## Granger"
   ]
  },
  {
   "cell_type": "code",
   "execution_count": 64,
   "metadata": {},
   "outputs": [],
   "source": [
    "config = ReconstructionConfig.granger()\n",
    "granger_model = GrangerCausality(config)"
   ]
  },
  {
   "cell_type": "code",
   "execution_count": 65,
   "metadata": {},
   "outputs": [],
   "source": [
    "dW_granger = corr_model.predict(Xtrain.T, W0, t_perturb)"
   ]
  },
  {
   "cell_type": "code",
   "execution_count": 66,
   "metadata": {},
   "outputs": [
    {
     "data": {
      "text/plain": [
       "<matplotlib.image.AxesImage at 0x7feac2843580>"
      ]
     },
     "execution_count": 66,
     "metadata": {},
     "output_type": "execute_result"
    },
    {
     "data": {
      "image/png": "[encoded data removed]",
      "text/plain": [
       "<Figure size 288x288 with 1 Axes>"
      ]
     },
     "metadata": {
      "needs_background": "light"
     },
     "output_type": "display_data"
    }
   ],
   "source": [
    "plt.matshow(dW_granger, cmap=\"Reds\")"
   ]
  },
  {
   "cell_type": "markdown",
   "metadata": {},
   "source": [
    "# Evaluation"
   ]
  },
  {
   "cell_type": "markdown",
   "metadata": {},
   "source": [
    "# ROC "
   ]
  },
  {
   "cell_type": "code",
   "execution_count": 67,
   "metadata": {},
   "outputs": [],
   "source": [
    "from sklearn.metrics import roc_curve, auc"
   ]
  },
  {
   "cell_type": "code",
   "execution_count": 68,
   "metadata": {},
   "outputs": [
    {
     "data": {
      "image/png": "[encoded data removed]",
      "text/plain": [
       "<Figure size 432x432 with 4 Axes>"
      ]
     },
     "metadata": {
      "needs_background": "light"
     },
     "output_type": "display_data"
    }
   ],
   "source": [
    "fpr_gnn, tpr_gnn, _ = roc_curve((W0-W1).flatten().astype(np.int), dW_GNN.flatten())\n",
    "fpr_coor, tpr_coor, _ = roc_curve((W0-W1).flatten().astype(np.int), dW_corr.flatten())\n",
    "fpr_granger, tpr_granger, _ = roc_curve((W0-W1).flatten().astype(np.int), dW_granger.flatten())\n",
    "fpr_bayesian, tpr_bayesian, _ = roc_curve((W0-W1).flatten().astype(np.int), dW_bayesian.flatten())\n",
    "\n",
    "\n",
    "fig, axarr = plt.subplots(2, 2, figsize=(6,6))\n",
    "k = 0 \n",
    "for i in range(2):\n",
    "    for j in range(2):\n",
    "        ax = axarr[i,j]\n",
    "        if k==0:\n",
    "            ax.plot(fpr_gnn, tpr_gnn)\n",
    "            ax.set_title(f'GNN (auc: {auc(fpr_gnn, tpr_gnn):.1%})')\n",
    "        elif k==1:\n",
    "            ax.plot(fpr_coor, tpr_coor)\n",
    "            ax.set_title(f'Correlation (auc: {auc(fpr_coor, tpr_coor):.1%})')\n",
    "        elif k==2:\n",
    "            ax.plot(fpr_granger, tpr_granger)\n",
    "            ax.set_title(f'Granger (auc: {auc(fpr_granger, tpr_granger):.1%})')\n",
    "        else:\n",
    "            ax.plot(fpr_bayesian, tpr_bayesian)\n",
    "            ax.set_title(f'Bayesian (auc: {auc(fpr_bayesian, tpr_bayesian):.1%})')\n",
    "        k += 1\n",
    "        ax.set_xlabel(\"FPR\")\n",
    "        ax.set_ylabel(\"TPR\")\n",
    "        \n",
    "plt.subplots_adjust(wspace=0.4, hspace=0.4)"
   ]
  },
  {
   "cell_type": "markdown",
   "metadata": {},
   "source": [
    "# Precision recall"
   ]
  },
  {
   "cell_type": "code",
   "execution_count": 74,
   "metadata": {},
   "outputs": [],
   "source": [
    "from sklearn.metrics import precision_recall_curve, average_precision_score"
   ]
  },
  {
   "cell_type": "code",
   "execution_count": 77,
   "metadata": {},
   "outputs": [
    {
     "data": {
      "image/png": "[encoded data removed]",
      "text/plain": [
       "<Figure size 432x432 with 4 Axes>"
      ]
     },
     "metadata": {
      "needs_background": "light"
     },
     "output_type": "display_data"
    }
   ],
   "source": [
    "precision_gnn, recall_gnn, _ = precision_recall_curve((W0-W1).flatten().astype(np.int), dW_GNN.flatten())\n",
    "precision_coor, recall_coor, _ = precision_recall_curve((W0-W1).flatten().astype(np.int), dW_corr.flatten())\n",
    "precision_granger, recall_granger, _ = precision_recall_curve((W0-W1).flatten().astype(np.int), dW_granger.flatten())\n",
    "precision_bayesian, recall_bayesian, _ = precision_recall_curve((W0-W1).flatten().astype(np.int), dW_bayesian.flatten())\n",
    "\n",
    "\n",
    "fig, axarr = plt.subplots(2, 2, figsize=(6,6))\n",
    "k = 0 \n",
    "for i in range(2):\n",
    "    for j in range(2):\n",
    "        ax = axarr[i,j]\n",
    "        if k==0:\n",
    "            ax.plot(recall_gnn, precision_gnn)\n",
    "            ax.set_title(f'GNN')\n",
    "        elif k==1:\n",
    "            ax.plot(recall_coor, precision_coor)\n",
    "            ax.set_title('Correlation')\n",
    "        elif k==2:\n",
    "            ax.plot(recall_granger, precision_granger)\n",
    "            ax.set_title('Granger')\n",
    "        else:\n",
    "            ax.plot(recall_bayesian, precision_bayesian)\n",
    "            ax.set_title('Bayesian')\n",
    "        k += 1\n",
    "        ax.set_xlabel(\"recall\")\n",
    "        ax.set_ylabel(\"precision\")\n",
    "        \n",
    "plt.subplots_adjust(wspace=0.4, hspace=0.4)"
   ]
  }
 ],
 "metadata": {
  "kernelspec": {
   "display_name": "Python [conda env:py_spdetection]",
   "language": "python",
   "name": "conda-env-py_spdetection-py"
  },
  "language_info": {
   "codemirror_mode": {
    "name": "ipython",
    "version": 3
   },
   "file_extension": ".py",
   "mimetype": "text/x-python",
   "name": "python",
   "nbconvert_exporter": "python",
   "pygments_lexer": "ipython3",
   "version": "3.8.0"
  }
 },
 "nbformat": 4,
 "nbformat_minor": 4
}
